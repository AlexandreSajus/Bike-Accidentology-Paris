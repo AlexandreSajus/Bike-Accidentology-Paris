{
 "cells": [
  {
   "cell_type": "code",
   "execution_count": null,
   "metadata": {},
   "outputs": [],
   "source": [
    "\"\"\"\n",
    "From the accident data, remove accidents that are on bike paths\n",
    "\"\"\""
   ]
  },
  {
   "cell_type": "code",
   "execution_count": 45,
   "metadata": {},
   "outputs": [],
   "source": [
    "import pandas as pd"
   ]
  },
  {
   "cell_type": "code",
   "execution_count": 46,
   "metadata": {},
   "outputs": [],
   "source": [
    "LINE_PATH = \"lines.csv\"\n",
    "ACCIDENT_PATH = \"loc_accidents_paris.csv\""
   ]
  },
  {
   "cell_type": "code",
   "execution_count": 47,
   "metadata": {},
   "outputs": [],
   "source": [
    "# Load the data\n",
    "lines = pd.read_csv(LINE_PATH, sep=\";\")\n",
    "accidents = pd.read_csv(ACCIDENT_PATH, sep=\";\")"
   ]
  },
  {
   "cell_type": "code",
   "execution_count": 48,
   "metadata": {},
   "outputs": [],
   "source": [
    "# Keep in lines rows where ame_d = \"PISTE CYCLABLE\"\n",
    "lines = lines[lines[\"ame_d\"] == \"PISTE CYCLABLE\"]"
   ]
  },
  {
   "cell_type": "code",
   "execution_count": 51,
   "metadata": {},
   "outputs": [],
   "source": [
    "accidents_indexes_to_remove = []\n",
    "accidents_lat = list(accidents[\"lat\"])\n",
    "accidents_long = list(accidents[\"long\"])\n",
    "piste_lat = list(lines[\"Latitude\"])\n",
    "piste_long = list(lines[\"Longitude\"])\n",
    "\n",
    "from math import sqrt\n",
    "\n",
    "# Add the index of the accidents that are not 200 m away from a piste\n",
    "for i in range(len(accidents)):\n",
    "    for j in range(len(lines)):\n",
    "        if sqrt((accidents_lat[i] - piste_lat[j])**2 + (accidents_long[i] - piste_long[j])**2) < 0.002:\n",
    "            accidents_indexes_to_remove.append(i)\n",
    "            break"
   ]
  },
  {
   "cell_type": "code",
   "execution_count": 52,
   "metadata": {},
   "outputs": [
    {
     "data": {
      "text/plain": [
       "952"
      ]
     },
     "execution_count": 52,
     "metadata": {},
     "output_type": "execute_result"
    }
   ],
   "source": [
    "len(accidents_indexes_to_remove)"
   ]
  },
  {
   "cell_type": "code",
   "execution_count": 53,
   "metadata": {},
   "outputs": [],
   "source": [
    "# Remove the accidents that are not 200 m away from a piste\n",
    "accidents = accidents.drop(accidents.index[accidents_indexes_to_remove])"
   ]
  },
  {
   "cell_type": "code",
   "execution_count": 54,
   "metadata": {},
   "outputs": [],
   "source": [
    "# Export the data\n",
    "accidents.to_csv(\"accidents_no_path.csv\", index=False)"
   ]
  }
 ],
 "metadata": {
  "kernelspec": {
   "display_name": "venv",
   "language": "python",
   "name": "python3"
  },
  "language_info": {
   "codemirror_mode": {
    "name": "ipython",
    "version": 3
   },
   "file_extension": ".py",
   "mimetype": "text/x-python",
   "name": "python",
   "nbconvert_exporter": "python",
   "pygments_lexer": "ipython3",
   "version": "3.8.10 (tags/v3.8.10:3d8993a, May  3 2021, 11:48:03) [MSC v.1928 64 bit (AMD64)]"
  },
  "orig_nbformat": 4,
  "vscode": {
   "interpreter": {
    "hash": "d8117f44978d00b2b08e50ac191c2751cdf51eb0fb4a1c4e69510c3474557204"
   }
  }
 },
 "nbformat": 4,
 "nbformat_minor": 2
}
