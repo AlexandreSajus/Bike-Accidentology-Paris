{
 "cells": [
  {
   "cell_type": "code",
   "execution_count": null,
   "metadata": {},
   "outputs": [],
   "source": [
    "\"\"\"\n",
    "Extracts data from Données du Baromètre des Villes Cyclables\n",
    "\"\"\""
   ]
  },
  {
   "cell_type": "code",
   "execution_count": 1,
   "metadata": {},
   "outputs": [],
   "source": [
    "# Import geo libraries and visualization libraries\n",
    "import geopandas as gpd\n",
    "import matplotlib.pyplot as plt\n",
    "import pandas as pd"
   ]
  },
  {
   "cell_type": "code",
   "execution_count": 2,
   "metadata": {},
   "outputs": [],
   "source": [
    "SENT_PATH = \"points_noirs-75.geojson\""
   ]
  },
  {
   "cell_type": "code",
   "execution_count": 7,
   "metadata": {},
   "outputs": [],
   "source": [
    "# Read data\n",
    "sent = gpd.read_file(SENT_PATH)\n",
    "\n",
    "# Convert to a list of longitudes and a list of latitudes\n",
    "longitudes = sent.geometry.x.tolist()\n",
    "latitudes = sent.geometry.y.tolist()\n",
    "\n",
    "# Export longitudes and latitudes as csv\n",
    "df = pd.DataFrame({'longitudes': longitudes, 'latitudes': latitudes})\n",
    "df.to_csv('sentiment.csv', index=False)"
   ]
  }
 ],
 "metadata": {
  "kernelspec": {
   "display_name": "venv",
   "language": "python",
   "name": "python3"
  },
  "language_info": {
   "codemirror_mode": {
    "name": "ipython",
    "version": 3
   },
   "file_extension": ".py",
   "mimetype": "text/x-python",
   "name": "python",
   "nbconvert_exporter": "python",
   "pygments_lexer": "ipython3",
   "version": "3.8.10 (tags/v3.8.10:3d8993a, May  3 2021, 11:48:03) [MSC v.1928 64 bit (AMD64)]"
  },
  "orig_nbformat": 4,
  "vscode": {
   "interpreter": {
    "hash": "d8117f44978d00b2b08e50ac191c2751cdf51eb0fb4a1c4e69510c3474557204"
   }
  }
 },
 "nbformat": 4,
 "nbformat_minor": 2
}
