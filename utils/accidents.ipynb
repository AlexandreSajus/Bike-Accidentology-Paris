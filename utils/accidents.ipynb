{
 "cells": [
  {
   "cell_type": "code",
   "execution_count": null,
   "metadata": {},
   "outputs": [],
   "source": [
    "\"\"\"\n",
    "Extracts data from the Bases de données annuelles des accidents corporels de la circulation routière\n",
    "\"\"\""
   ]
  },
  {
   "cell_type": "code",
   "execution_count": 17,
   "metadata": {},
   "outputs": [],
   "source": [
    "import numpy as np\n",
    "import pandas as pd\n",
    "import matplotlib.pyplot as plt"
   ]
  },
  {
   "cell_type": "code",
   "execution_count": 18,
   "metadata": {},
   "outputs": [],
   "source": [
    "# PATHS\n",
    "CARAC_PATH = 'accidents/carcteristiques-2021.csv'\n",
    "CARAC_PATH_2 = 'accidents/caracteristiques-2020.csv'\n",
    "CARAC_PATH_3 = 'accidents/caracteristiques-2019.csv'\n",
    "LIEUX_PATH = 'accidents/lieux-2021.csv'\n",
    "LIEUX_PATH_2 = 'accidents/lieux-2020.csv'\n",
    "LIEUX_PATH_3 = 'accidents/lieux-2019.csv'\n",
    "VEHI_PATH = 'accidents/vehicules-2021.csv'\n",
    "VEHI_PATH_2 = 'accidents/vehicules-2020.csv'\n",
    "VEHI_PATH_3 = 'accidents/vehicules-2019.csv'\n",
    "USAGER_PATH = 'accidents/usagers-2021.csv'\n",
    "USAGER_PATH_2 = 'accidents/usagers-2020.csv'\n",
    "USAGER_PATH_3 = 'accidents/usagers-2019.csv'"
   ]
  },
  {
   "cell_type": "code",
   "execution_count": 19,
   "metadata": {},
   "outputs": [],
   "source": [
    "# Read the data\n",
    "carac = pd.read_csv(CARAC_PATH, sep=';', encoding='latin-1')\n",
    "carac_2 = pd.read_csv(CARAC_PATH_2, sep=';', encoding='latin-1')\n",
    "carac_3 = pd.read_csv(CARAC_PATH_3, sep=';', encoding='latin-1')\n",
    "lieux = pd.read_csv(LIEUX_PATH, sep=';', encoding='latin-1')\n",
    "lieux_2 = pd.read_csv(LIEUX_PATH_2, sep=';', encoding='latin-1')\n",
    "lieux_3 = pd.read_csv(LIEUX_PATH_3, sep=';', encoding='latin-1')\n",
    "vehicules = pd.read_csv(VEHI_PATH, sep=';', encoding='latin-1')\n",
    "vehicules_2 = pd.read_csv(VEHI_PATH_2, sep=';', encoding='latin-1')\n",
    "vehicules_3 = pd.read_csv(VEHI_PATH_3, sep=';', encoding='latin-1')\n",
    "usagers = pd.read_csv(USAGER_PATH, sep=';', encoding='latin-1')\n",
    "usagers_2 = pd.read_csv(USAGER_PATH_2, sep=';', encoding='latin-1')\n",
    "usagers_3 = pd.read_csv(USAGER_PATH_3, sep=';', encoding='latin-1')\n",
    "\n",
    "# Concatenate the data\n",
    "carac = pd.concat([carac, carac_2, carac_3])\n",
    "lieux = pd.concat([lieux, lieux_2, lieux_3])\n",
    "vehicules = pd.concat([vehicules, vehicules_2, vehicules_3])\n",
    "usagers = pd.concat([usagers, usagers_2, usagers_3])"
   ]
  },
  {
   "cell_type": "code",
   "execution_count": 21,
   "metadata": {},
   "outputs": [],
   "source": [
    "# Inner join carac and lieux on Num_Acc (accident id)\n",
    "carac_lieux = pd.merge(carac, lieux, on='Num_Acc', how='inner')"
   ]
  },
  {
   "cell_type": "code",
   "execution_count": 22,
   "metadata": {},
   "outputs": [],
   "source": [
    "# Inner join carac_lieux and vehicules on Num_Acc (accident id)\n",
    "carac_lieux_vehicules = pd.merge(carac_lieux, vehicules, on='Num_Acc', how='inner')"
   ]
  },
  {
   "cell_type": "code",
   "execution_count": 23,
   "metadata": {},
   "outputs": [],
   "source": [
    "# Keep only rows where catv == 1 (bicycle)\n",
    "carac_lieux_vehicules = carac_lieux_vehicules[carac_lieux_vehicules['catv'] == 1]"
   ]
  },
  {
   "cell_type": "code",
   "execution_count": 24,
   "metadata": {},
   "outputs": [],
   "source": [
    "# Inner join carac_lieux_vehicules and usagers on id_vehicule\n",
    "full_data = pd.merge(carac_lieux_vehicules, usagers, on='id_vehicule', how='inner')"
   ]
  },
  {
   "cell_type": "code",
   "execution_count": 26,
   "metadata": {},
   "outputs": [],
   "source": [
    "# Output as csv\n",
    "full_data.to_csv('full_data.csv', index=False, sep=\";\")"
   ]
  }
 ],
 "metadata": {
  "kernelspec": {
   "display_name": "venv",
   "language": "python",
   "name": "python3"
  },
  "language_info": {
   "codemirror_mode": {
    "name": "ipython",
    "version": 3
   },
   "file_extension": ".py",
   "mimetype": "text/x-python",
   "name": "python",
   "nbconvert_exporter": "python",
   "pygments_lexer": "ipython3",
   "version": "3.8.10 (tags/v3.8.10:3d8993a, May  3 2021, 11:48:03) [MSC v.1928 64 bit (AMD64)]"
  },
  "orig_nbformat": 4,
  "vscode": {
   "interpreter": {
    "hash": "d8117f44978d00b2b08e50ac191c2751cdf51eb0fb4a1c4e69510c3474557204"
   }
  }
 },
 "nbformat": 4,
 "nbformat_minor": 2
}
